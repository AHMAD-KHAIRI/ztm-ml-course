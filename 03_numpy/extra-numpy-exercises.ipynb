{
 "cells": [
  {
   "cell_type": "markdown",
   "metadata": {},
   "source": [
    "## Extra NumPy Exercise"
   ]
  },
  {
   "cell_type": "code",
   "execution_count": 1,
   "metadata": {},
   "outputs": [],
   "source": [
    "import numpy as np"
   ]
  },
  {
   "cell_type": "code",
   "execution_count": 2,
   "metadata": {},
   "outputs": [
    {
     "data": {
      "text/plain": [
       "array([5, 9, 3, 4, 6, 5])"
      ]
     },
     "execution_count": 2,
     "metadata": {},
     "output_type": "execute_result"
    }
   ],
   "source": [
    "a1 = np.random.randint(10, size=6)\n",
    "a1"
   ]
  },
  {
   "cell_type": "code",
   "execution_count": 3,
   "metadata": {},
   "outputs": [
    {
     "data": {
      "text/plain": [
       "array([[5, 8, 7, 9],\n",
       "       [0, 7, 4, 8],\n",
       "       [8, 7, 1, 6]])"
      ]
     },
     "execution_count": 3,
     "metadata": {},
     "output_type": "execute_result"
    }
   ],
   "source": [
    "a2 = np.random.randint(10, size=(3, 4))\n",
    "a2"
   ]
  },
  {
   "cell_type": "code",
   "execution_count": 4,
   "metadata": {},
   "outputs": [
    {
     "data": {
      "text/plain": [
       "array([[[6, 5, 9, 5, 1],\n",
       "        [9, 3, 6, 6, 5],\n",
       "        [2, 8, 2, 3, 0],\n",
       "        [9, 6, 5, 5, 4]],\n",
       "\n",
       "       [[6, 6, 8, 6, 1],\n",
       "        [5, 7, 8, 2, 4],\n",
       "        [0, 6, 1, 5, 8],\n",
       "        [5, 9, 6, 1, 8]],\n",
       "\n",
       "       [[8, 0, 0, 2, 7],\n",
       "        [2, 7, 7, 7, 6],\n",
       "        [0, 0, 2, 5, 3],\n",
       "        [1, 4, 9, 5, 9]]])"
      ]
     },
     "execution_count": 4,
     "metadata": {},
     "output_type": "execute_result"
    }
   ],
   "source": [
    "a3 = np.random.randint(10, size=(3, 4, 5))\n",
    "a3"
   ]
  },
  {
   "cell_type": "markdown",
   "metadata": {},
   "source": [
    "### NumPy Array Attributes "
   ]
  },
  {
   "cell_type": "code",
   "execution_count": 9,
   "metadata": {},
   "outputs": [
    {
     "name": "stdout",
     "output_type": "stream",
     "text": [
      "ndim: 1, shape: (6,), size: 6, dtype: int32, itemsize: 4 bytes, nbytes: 24 bytes\n"
     ]
    }
   ],
   "source": [
    "print(f\"ndim: {a1.ndim}, shape: {a1.shape}, size: {a1.size}, dtype: {a1.dtype}, itemsize: {a1.itemsize} bytes, nbytes: {a1.nbytes} bytes\")"
   ]
  },
  {
   "cell_type": "markdown",
   "metadata": {},
   "source": [
    "`nbytes` is equal to `size` times `itemsize`"
   ]
  },
  {
   "cell_type": "code",
   "execution_count": 6,
   "metadata": {},
   "outputs": [
    {
     "data": {
      "text/plain": [
       "(2, (3, 4), 12, dtype('int32'), 4, 48)"
      ]
     },
     "execution_count": 6,
     "metadata": {},
     "output_type": "execute_result"
    }
   ],
   "source": [
    "a2.ndim, a2.shape, a2.size, a2.dtype, a2.itemsize, a2.nbytes"
   ]
  },
  {
   "cell_type": "code",
   "execution_count": 7,
   "metadata": {},
   "outputs": [
    {
     "data": {
      "text/plain": [
       "(3, (3, 4, 5), 60, dtype('int32'), 4, 240)"
      ]
     },
     "execution_count": 7,
     "metadata": {},
     "output_type": "execute_result"
    }
   ],
   "source": [
    "a3.ndim, a3.shape, a3.size, a3.dtype, a3.itemsize, a3.nbytes"
   ]
  },
  {
   "cell_type": "markdown",
   "metadata": {},
   "source": [
    "### Array Indexing "
   ]
  },
  {
   "cell_type": "code",
   "execution_count": 10,
   "metadata": {},
   "outputs": [
    {
     "data": {
      "text/plain": [
       "array([5, 9, 3, 4, 6, 5])"
      ]
     },
     "execution_count": 10,
     "metadata": {},
     "output_type": "execute_result"
    }
   ],
   "source": [
    "a1"
   ]
  },
  {
   "cell_type": "code",
   "execution_count": 11,
   "metadata": {},
   "outputs": [
    {
     "data": {
      "text/plain": [
       "5"
      ]
     },
     "execution_count": 11,
     "metadata": {},
     "output_type": "execute_result"
    }
   ],
   "source": [
    "a1[0]"
   ]
  },
  {
   "cell_type": "code",
   "execution_count": 105,
   "metadata": {},
   "outputs": [
    {
     "data": {
      "text/plain": [
       "6"
      ]
     },
     "execution_count": 105,
     "metadata": {},
     "output_type": "execute_result"
    }
   ],
   "source": [
    "a1[-2] # use negative (-) to index from the end of an array"
   ]
  },
  {
   "cell_type": "code",
   "execution_count": 106,
   "metadata": {},
   "outputs": [
    {
     "data": {
      "text/plain": [
       "array([5, 6, 4, 3, 9, 5])"
      ]
     },
     "execution_count": 106,
     "metadata": {},
     "output_type": "execute_result"
    }
   ],
   "source": [
    "# how to reverse an array\n",
    "a1[::-1]"
   ]
  },
  {
   "cell_type": "markdown",
   "metadata": {},
   "source": [
    "In a 2-dimensional array:\n",
    "array[n-th row, n-th column]"
   ]
  },
  {
   "cell_type": "code",
   "execution_count": 12,
   "metadata": {},
   "outputs": [
    {
     "data": {
      "text/plain": [
       "array([[5, 8, 7, 9],\n",
       "       [0, 7, 4, 8],\n",
       "       [8, 7, 1, 6]])"
      ]
     },
     "execution_count": 12,
     "metadata": {},
     "output_type": "execute_result"
    }
   ],
   "source": [
    "a2"
   ]
  },
  {
   "cell_type": "code",
   "execution_count": 14,
   "metadata": {},
   "outputs": [
    {
     "data": {
      "text/plain": [
       "array([5, 8, 7, 9])"
      ]
     },
     "execution_count": 14,
     "metadata": {},
     "output_type": "execute_result"
    }
   ],
   "source": [
    "a2[0] # takes the first row"
   ]
  },
  {
   "cell_type": "code",
   "execution_count": 86,
   "metadata": {},
   "outputs": [
    {
     "data": {
      "text/plain": [
       "8"
      ]
     },
     "execution_count": 86,
     "metadata": {},
     "output_type": "execute_result"
    }
   ],
   "source": [
    "a2[0, 1] # takes the value from the 1st row and 2nd column"
   ]
  },
  {
   "cell_type": "code",
   "execution_count": 43,
   "metadata": {},
   "outputs": [
    {
     "data": {
      "text/plain": [
       "array([[5, 8, 7, 9]])"
      ]
     },
     "execution_count": 43,
     "metadata": {},
     "output_type": "execute_result"
    }
   ],
   "source": [
    "# slicing technique [start:stop:step]\n",
    "a2[:1]"
   ]
  },
  {
   "cell_type": "code",
   "execution_count": 47,
   "metadata": {},
   "outputs": [
    {
     "data": {
      "text/plain": [
       "7"
      ]
     },
     "execution_count": 47,
     "metadata": {},
     "output_type": "execute_result"
    }
   ],
   "source": [
    "# takes the value from the 1st row (0th index), 3rd column (2nd index)\n",
    "a2[0, 2]"
   ]
  },
  {
   "cell_type": "code",
   "execution_count": 73,
   "metadata": {},
   "outputs": [
    {
     "data": {
      "text/plain": [
       "array([[5],\n",
       "       [0],\n",
       "       [8]])"
      ]
     },
     "execution_count": 73,
     "metadata": {},
     "output_type": "execute_result"
    }
   ],
   "source": [
    "# takes each value in the 1st row (0th index) and 1st column (0th index) in the array by using slicing\n",
    "# a2[:3, :1]\n",
    "# a2[:a2.ndim + 1, :1]\n",
    "a2[:a2.shape[0], :1]"
   ]
  },
  {
   "cell_type": "code",
   "execution_count": 108,
   "metadata": {},
   "outputs": [
    {
     "data": {
      "text/plain": [
       "array([[5, 8, 7, 9],\n",
       "       [0, 7, 4, 8],\n",
       "       [8, 7, 1, 6]])"
      ]
     },
     "execution_count": 108,
     "metadata": {},
     "output_type": "execute_result"
    }
   ],
   "source": [
    "a2"
   ]
  },
  {
   "cell_type": "code",
   "execution_count": 122,
   "metadata": {},
   "outputs": [
    {
     "data": {
      "text/plain": [
       "array([[9, 7, 8, 5],\n",
       "       [8, 4, 7, 0],\n",
       "       [6, 1, 7, 8]])"
      ]
     },
     "execution_count": 122,
     "metadata": {},
     "output_type": "execute_result"
    }
   ],
   "source": [
    "a2[::, ::-1] # reverses a 2-dimensional array"
   ]
  },
  {
   "cell_type": "code",
   "execution_count": 75,
   "metadata": {},
   "outputs": [
    {
     "data": {
      "text/plain": [
       "array([[[6, 5, 9, 5, 1],\n",
       "        [9, 3, 6, 6, 5],\n",
       "        [2, 8, 2, 3, 0],\n",
       "        [9, 6, 5, 5, 4]],\n",
       "\n",
       "       [[6, 6, 8, 6, 1],\n",
       "        [5, 7, 8, 2, 4],\n",
       "        [0, 6, 1, 5, 8],\n",
       "        [5, 9, 6, 1, 8]],\n",
       "\n",
       "       [[8, 0, 0, 2, 7],\n",
       "        [2, 7, 7, 7, 6],\n",
       "        [0, 0, 2, 5, 3],\n",
       "        [1, 4, 9, 5, 9]]])"
      ]
     },
     "execution_count": 75,
     "metadata": {},
     "output_type": "execute_result"
    }
   ],
   "source": [
    "a3"
   ]
  },
  {
   "cell_type": "markdown",
   "metadata": {},
   "source": [
    "In a 3-dimensional array: array[n-th matrix, n-th row, n-th column]"
   ]
  },
  {
   "cell_type": "code",
   "execution_count": 85,
   "metadata": {},
   "outputs": [
    {
     "data": {
      "text/plain": [
       "1"
      ]
     },
     "execution_count": 85,
     "metadata": {},
     "output_type": "execute_result"
    }
   ],
   "source": [
    "a3[0, 0, 4]"
   ]
  },
  {
   "cell_type": "code",
   "execution_count": 101,
   "metadata": {},
   "outputs": [
    {
     "data": {
      "text/plain": [
       "array([[[9],\n",
       "        [6],\n",
       "        [2],\n",
       "        [5]],\n",
       "\n",
       "       [[8],\n",
       "        [8],\n",
       "        [1],\n",
       "        [6]],\n",
       "\n",
       "       [[0],\n",
       "        [7],\n",
       "        [2],\n",
       "        [9]]])"
      ]
     },
     "execution_count": 101,
     "metadata": {},
     "output_type": "execute_result"
    }
   ],
   "source": [
    "a3[:, :, 2:3] # get's the values from each matrices, each row, and the 3rd column"
   ]
  },
  {
   "cell_type": "code",
   "execution_count": 124,
   "metadata": {},
   "outputs": [
    {
     "data": {
      "text/plain": [
       "array([[[6, 5, 9, 5, 1],\n",
       "        [9, 3, 6, 6, 5],\n",
       "        [2, 8, 2, 3, 0],\n",
       "        [9, 6, 5, 5, 4]],\n",
       "\n",
       "       [[6, 6, 8, 6, 1],\n",
       "        [5, 7, 8, 2, 4],\n",
       "        [0, 6, 1, 5, 8],\n",
       "        [5, 9, 6, 1, 8]],\n",
       "\n",
       "       [[8, 0, 0, 2, 7],\n",
       "        [2, 7, 7, 7, 6],\n",
       "        [0, 0, 2, 5, 3],\n",
       "        [1, 4, 9, 5, 9]]])"
      ]
     },
     "execution_count": 124,
     "metadata": {},
     "output_type": "execute_result"
    }
   ],
   "source": [
    "a3"
   ]
  },
  {
   "cell_type": "code",
   "execution_count": 123,
   "metadata": {},
   "outputs": [
    {
     "data": {
      "text/plain": [
       "array([[[1, 5, 9, 5, 6],\n",
       "        [5, 6, 6, 3, 9],\n",
       "        [0, 3, 2, 8, 2],\n",
       "        [4, 5, 5, 6, 9]],\n",
       "\n",
       "       [[1, 6, 8, 6, 6],\n",
       "        [4, 2, 8, 7, 5],\n",
       "        [8, 5, 1, 6, 0],\n",
       "        [8, 1, 6, 9, 5]],\n",
       "\n",
       "       [[7, 2, 0, 0, 8],\n",
       "        [6, 7, 7, 7, 2],\n",
       "        [3, 5, 2, 0, 0],\n",
       "        [9, 5, 9, 4, 1]]])"
      ]
     },
     "execution_count": 123,
     "metadata": {},
     "output_type": "execute_result"
    }
   ],
   "source": [
    "a3[::, ::, ::-1] # reverses a 3-dimensional array"
   ]
  },
  {
   "cell_type": "markdown",
   "metadata": {},
   "source": [
    "### Creating copies of an array with .copy()"
   ]
  },
  {
   "cell_type": "code",
   "execution_count": 125,
   "metadata": {},
   "outputs": [],
   "source": [
    "a1_copy = a1.copy()"
   ]
  },
  {
   "cell_type": "code",
   "execution_count": 126,
   "metadata": {},
   "outputs": [
    {
     "data": {
      "text/plain": [
       "array([5, 9, 3, 4, 6, 5])"
      ]
     },
     "execution_count": 126,
     "metadata": {},
     "output_type": "execute_result"
    }
   ],
   "source": [
    "a1_copy"
   ]
  },
  {
   "cell_type": "code",
   "execution_count": 128,
   "metadata": {},
   "outputs": [
    {
     "data": {
      "text/plain": [
       "(5, 99)"
      ]
     },
     "execution_count": 128,
     "metadata": {},
     "output_type": "execute_result"
    }
   ],
   "source": [
    "a1_copy[0] = 99\n",
    "a1[0], a1_copy[0]"
   ]
  },
  {
   "cell_type": "markdown",
   "metadata": {},
   "source": [
    "### Array Concatenation"
   ]
  },
  {
   "cell_type": "code",
   "execution_count": 133,
   "metadata": {},
   "outputs": [
    {
     "data": {
      "text/plain": [
       "(array([1, 2, 7, 8, 4]), array([0, 1, 6, 6, 8]))"
      ]
     },
     "execution_count": 133,
     "metadata": {},
     "output_type": "execute_result"
    }
   ],
   "source": [
    "x = np.random.randint(10, size=5)\n",
    "y = np.random.randint(10, size=5)\n",
    "x, y"
   ]
  },
  {
   "cell_type": "code",
   "execution_count": 144,
   "metadata": {},
   "outputs": [
    {
     "data": {
      "text/plain": [
       "array([1, 2, 7, 8, 4, 0, 1, 6, 6, 8])"
      ]
     },
     "execution_count": 144,
     "metadata": {},
     "output_type": "execute_result"
    }
   ],
   "source": [
    "# np.concatenate([x, y]) # stack two (or more) arrays\n",
    "np.concatenate([x, y], axis=0) # stack two (or more) arrays"
   ]
  },
  {
   "cell_type": "code",
   "execution_count": 139,
   "metadata": {},
   "outputs": [
    {
     "data": {
      "text/plain": [
       "array([[1, 2, 7, 8, 4],\n",
       "       [0, 1, 6, 6, 8]])"
      ]
     },
     "execution_count": 139,
     "metadata": {},
     "output_type": "execute_result"
    }
   ],
   "source": [
    "np.vstack([x, y]) # stack the arrays vertically"
   ]
  },
  {
   "cell_type": "code",
   "execution_count": 138,
   "metadata": {},
   "outputs": [
    {
     "data": {
      "text/plain": [
       "array([1, 2, 7, 8, 4, 0, 1, 6, 6, 8])"
      ]
     },
     "execution_count": 138,
     "metadata": {},
     "output_type": "execute_result"
    }
   ],
   "source": [
    "np.hstack([x, y]) # stack the arrays horizontally"
   ]
  },
  {
   "cell_type": "code",
   "execution_count": 145,
   "metadata": {},
   "outputs": [
    {
     "data": {
      "text/plain": [
       "array([[[1, 0],\n",
       "        [2, 1],\n",
       "        [7, 6],\n",
       "        [8, 6],\n",
       "        [4, 8]]])"
      ]
     },
     "execution_count": 145,
     "metadata": {},
     "output_type": "execute_result"
    }
   ],
   "source": [
    "np.dstack([x, y])"
   ]
  },
  {
   "cell_type": "markdown",
   "metadata": {},
   "source": [
    "### Array Splitting"
   ]
  },
  {
   "cell_type": "code",
   "execution_count": 168,
   "metadata": {},
   "outputs": [
    {
     "name": "stdout",
     "output_type": "stream",
     "text": [
      "[5 9 1 0 9 1 0 4 6 7] [5 9 1 0 9] [1 0 4 6 7]\n"
     ]
    }
   ],
   "source": [
    "z = np.random.randint(10, size=10)\n",
    "z1, z2 = np.split(z, [5])\n",
    "print(z, z1, z2)"
   ]
  },
  {
   "cell_type": "code",
   "execution_count": 175,
   "metadata": {},
   "outputs": [
    {
     "data": {
      "text/plain": [
       "array([[2, 9, 3],\n",
       "       [9, 6, 1],\n",
       "       [5, 8, 7]])"
      ]
     },
     "execution_count": 175,
     "metadata": {},
     "output_type": "execute_result"
    }
   ],
   "source": [
    "z3 = np.random.randint(10, size=(3, 3))\n",
    "z3"
   ]
  },
  {
   "cell_type": "code",
   "execution_count": 184,
   "metadata": {},
   "outputs": [
    {
     "data": {
      "text/plain": [
       "[array([[2, 9, 3]]), array([[9, 6, 1]]), array([[5, 8, 7]])]"
      ]
     },
     "execution_count": 184,
     "metadata": {},
     "output_type": "execute_result"
    }
   ],
   "source": [
    "np.vsplit(z3, [1, 2]) # split an array vertically"
   ]
  },
  {
   "cell_type": "code",
   "execution_count": 185,
   "metadata": {},
   "outputs": [
    {
     "data": {
      "text/plain": [
       "[array([[2],\n",
       "        [9],\n",
       "        [5]]),\n",
       " array([[9],\n",
       "        [6],\n",
       "        [8]]),\n",
       " array([[3],\n",
       "        [1],\n",
       "        [7]])]"
      ]
     },
     "execution_count": 185,
     "metadata": {},
     "output_type": "execute_result"
    }
   ],
   "source": [
    "np.hsplit(z3, [1, 2]) # split an array horizontally"
   ]
  },
  {
   "cell_type": "code",
   "execution_count": null,
   "metadata": {},
   "outputs": [],
   "source": []
  }
 ],
 "metadata": {
  "kernelspec": {
   "display_name": "base",
   "language": "python",
   "name": "python3"
  },
  "language_info": {
   "codemirror_mode": {
    "name": "ipython",
    "version": 3
   },
   "file_extension": ".py",
   "mimetype": "text/x-python",
   "name": "python",
   "nbconvert_exporter": "python",
   "pygments_lexer": "ipython3",
   "version": "3.11.7"
  }
 },
 "nbformat": 4,
 "nbformat_minor": 2
}
